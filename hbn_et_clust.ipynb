{
 "cells": [
  {
   "cell_type": "code",
   "execution_count": null,
   "metadata": {},
   "outputs": [],
   "source": [
    "import numpy as np\n",
    "import pandas as pd\n",
    "\n",
    "import matplotlib.pyplot as plt\n",
    "import seaborn as sns\n",
    "\n",
    "from mpl_toolkits.axes_grid1 import make_axes_locatable\n",
    "\n",
    "from scipy.spatial import distance\n",
    "from scipy.stats import ttest_ind\n",
    "\n",
    "import scipy.cluster as cluster\n",
    "\n",
    "from statsmodels.stats.multitest import multipletests\n",
    "\n",
    "from sklearn import metrics"
   ]
  },
  {
   "cell_type": "code",
   "execution_count": null,
   "metadata": {},
   "outputs": [],
   "source": [
    "pheno_et = pd.read_csv('pheno_et.csv')\n",
    "pheno_et.set_index(['EID'], inplace=True)\n",
    "pheno_et = pheno_et.astype(np.float64)"
   ]
  },
  {
   "cell_type": "code",
   "execution_count": null,
   "metadata": {},
   "outputs": [],
   "source": [
    "x = np.load('et_time_series_x.npy')\n",
    "y = np.load('et_time_series_y.npy')"
   ]
  },
  {
   "cell_type": "code",
   "execution_count": null,
   "metadata": {},
   "outputs": [],
   "source": [
    "et = np.stack((x, y), axis=2)"
   ]
  },
  {
   "cell_type": "markdown",
   "metadata": {},
   "source": [
    "# Euclidean distance"
   ]
  },
  {
   "cell_type": "code",
   "execution_count": null,
   "metadata": {},
   "outputs": [],
   "source": [
    "dis = np.zeros((et.shape[0], et.shape[0]))\n",
    "\n",
    "min_e = np.inf\n",
    "for i in range(et.shape[0] - 1):\n",
    "    for j in range(i + 1, et.shape[0]):\n",
    "        e = np.mean(np.sqrt((et[i,:,0] - et[j,:,0])**2 + (et[i,:,1] - et[j,:,1])**2))\n",
    "        if e < min_e:\n",
    "            min_e = e\n",
    "        dis[i,j] = e\n",
    "        dis[j,i] = e"
   ]
  },
  {
   "cell_type": "code",
   "execution_count": null,
   "metadata": {},
   "outputs": [],
   "source": [
    "plt.figure(figsize=(10,10))\n",
    "im = plt.imshow(dis, cmap='jet', vmin=min_e, vmax=125)\n",
    "plt.colorbar(im)"
   ]
  },
  {
   "cell_type": "code",
   "execution_count": null,
   "metadata": {},
   "outputs": [],
   "source": [
    "cd = distance.squareform(dis) # since inputting dense distance matrix into linkage function, must convert to 1D condensed distance vector"
   ]
  },
  {
   "cell_type": "code",
   "execution_count": null,
   "metadata": {},
   "outputs": [],
   "source": [
    "Z = cluster.hierarchy.linkage(cd, method='ward')"
   ]
  },
  {
   "cell_type": "code",
   "execution_count": null,
   "metadata": {},
   "outputs": [],
   "source": [
    "plt.figure(figsize=(11,11))\n",
    "dn = cluster.hierarchy.dendrogram(Z)\n",
    "plt.xticks([])"
   ]
  },
  {
   "cell_type": "code",
   "execution_count": null,
   "metadata": {},
   "outputs": [],
   "source": [
    "clusters = cluster.hierarchy.fcluster(Z, 500, criterion='distance')"
   ]
  },
  {
   "cell_type": "code",
   "execution_count": null,
   "metadata": {},
   "outputs": [],
   "source": [
    "u, c = np.unique(clusters, return_counts=True)"
   ]
  },
  {
   "cell_type": "code",
   "execution_count": null,
   "metadata": {},
   "outputs": [],
   "source": [
    "fig, ax = plt.subplots(2, 1, figsize=(35,20))\n",
    "\n",
    "for i in range(u.size):\n",
    "    ax[0].plot(np.mean(x[clusters == u[i]], axis=0))\n",
    "    ax[1].plot(np.mean(y[clusters == u[i]], axis=0), label='%d; N=%d' % (u[i], c[i]))\n",
    "ax[0].set_title('x-direction mean time series', fontsize=18, fontweight='bold')\n",
    "ax[1].set_title('y-direction mean time series', fontsize=18, fontweight='bold')\n",
    "ax[1].legend(loc=0, fontsize=18)"
   ]
  },
  {
   "cell_type": "code",
   "execution_count": null,
   "metadata": {},
   "outputs": [],
   "source": [
    "dis_clust = dis[np.argsort(clusters),:][:,np.argsort(clusters)] # sort distance matrix by cluster assignments"
   ]
  },
  {
   "cell_type": "code",
   "execution_count": null,
   "metadata": {},
   "outputs": [],
   "source": [
    "plt.figure(figsize=(10,10))\n",
    "im = plt.imshow(dis_clust, cmap='jet', vmin=min_e, vmax=160)\n",
    "plt.colorbar(im)"
   ]
  },
  {
   "cell_type": "code",
   "execution_count": null,
   "metadata": {},
   "outputs": [],
   "source": [
    "# compile behavioral data for each cluster\n",
    "pheno_c = []\n",
    "for i in np.unique(clusters):\n",
    "    pheno_c.append(pheno_et.iloc[clusters == i,:-1])"
   ]
  },
  {
   "cell_type": "code",
   "execution_count": null,
   "metadata": {},
   "outputs": [],
   "source": [
    "# calculate group differences for each measure\n",
    "pvals = np.zeros((np.unique(clusters).size, np.unique(clusters).size, 4))\n",
    "for i in range(np.unique(clusters).size - 1):\n",
    "    for j in range(i + 1, np.unique(clusters).size):\n",
    "        for k in range(4):\n",
    "            p = ttest_ind(pheno_c[i].iloc[:,k], pheno_c[j].iloc[:,k], equal_var=False)[1]\n",
    "            pvals[i,j,k] = p\n",
    "            pvals[j,i,k] = p"
   ]
  },
  {
   "cell_type": "code",
   "execution_count": null,
   "metadata": {},
   "outputs": [],
   "source": [
    "# FDR correction\n",
    "p_corr = np.zeros(pvals.shape)\n",
    "nmu = np.triu_indices(pvals.shape[0], 1)\n",
    "for i in range(pvals.shape[2]):\n",
    "    nm = np.triu_indices(np.unique(clusters).size, 1)\n",
    "    p_unc = pvals[...,i][nm[0],nm[1]]\n",
    "    res = multipletests(p_unc, method='fdr_bh')\n",
    "    p_corr[nmu[0],nmu[1],i] = res[1]\n",
    "    p_corr[...,i] += p_corr[...,i].T"
   ]
  },
  {
   "cell_type": "code",
   "execution_count": null,
   "metadata": {},
   "outputs": [],
   "source": [
    "fig, ax = plt.subplots(2, 2, figsize=(11,11))\n",
    "ax_flat = ax.flat\n",
    "scores = pheno_et.columns.tolist()[:-1]\n",
    "for i in range(p_corr.shape[2]):\n",
    "    im = ax_flat[i].imshow(p_corr[...,i], cmap='jet', vmax=0.05)\n",
    "    ax_flat[i].set_title(scores[i], fontsize=18)\n",
    "    ax_flat[i].set_xticks(np.arange(p_corr.shape[0]))\n",
    "    ax_flat[i].set_yticks(np.arange(p_corr.shape[0]))\n",
    "    ax_flat[i].set_xticklabels(np.arange(p_corr.shape[0]) + 1)\n",
    "    ax_flat[i].set_yticklabels(np.arange(p_corr.shape[0]) + 1)\n",
    "cbar = fig.colorbar(im, ax=ax.ravel().tolist(), shrink=0.95)"
   ]
  },
  {
   "cell_type": "code",
   "execution_count": null,
   "metadata": {},
   "outputs": [],
   "source": [
    "pheno_et['clusters'] = clusters"
   ]
  },
  {
   "cell_type": "code",
   "execution_count": null,
   "metadata": {},
   "outputs": [],
   "source": [
    "fig, ax = plt.subplots(2, 1, figsize=(30,15))\n",
    "sns.violinplot(x='clusters', y='SCQ_Total', data=pheno_et, ax=ax[0])\n",
    "sns.violinplot(x='clusters', y='SRS_Total_T', data=pheno_et, ax=ax[1])\n",
    "ax[0].set_title('SCQ_Total', fontsize=18, fontweight='bold')\n",
    "ax[1].set_title('SRS_Total_T', fontsize=18, fontweight='bold')"
   ]
  },
  {
   "cell_type": "markdown",
   "metadata": {},
   "source": [
    "# Cosine distance"
   ]
  },
  {
   "cell_type": "code",
   "execution_count": null,
   "metadata": {},
   "outputs": [],
   "source": [
    "dis = np.zeros((et.shape[0], et.shape[0]))\n",
    "\n",
    "# originally, origin of ET data is top left corner--this does not suit cosine distance well, so need to center data at center of screen\n",
    "et[...,0] -= 400\n",
    "et[...,1] -= 300\n",
    "\n",
    "min_cos = np.inf\n",
    "for i in range(et.shape[0] - 1):\n",
    "    for j in range(i + 1, et.shape[0]):\n",
    "        cos = distance.cosine(np.concatenate((et[i,:,0], et[i,:,1])), np.concatenate((et[j,:,0], et[j,:,1])))\n",
    "        if cos < min_cos:\n",
    "            min_cos = cos\n",
    "        dis[i,j] = cos\n",
    "        dis[j,i] = cos"
   ]
  },
  {
   "cell_type": "code",
   "execution_count": null,
   "metadata": {},
   "outputs": [],
   "source": [
    "plt.figure(figsize=(10,10))\n",
    "im = plt.imshow(dis, cmap='jet', vmin=min_cos, vmax=1.2)\n",
    "plt.colorbar(im)"
   ]
  },
  {
   "cell_type": "code",
   "execution_count": null,
   "metadata": {},
   "outputs": [],
   "source": [
    "# bootstrapping\n",
    "niter = 1000\n",
    "chunk = int(et.shape[0] * 0.9)\n",
    "\n",
    "# create consensus matrix for 4 different cluster amounts in dendrogram\n",
    "consensus_mats = [\n",
    "    np.zeros((et.shape[0], et.shape[0])),\n",
    "    np.zeros((et.shape[0], et.shape[0])),\n",
    "    np.zeros((et.shape[0], et.shape[0])),\n",
    "    np.zeros((et.shape[0], et.shape[0]))\n",
    "]\n",
    "\n",
    "for i in range(niter):\n",
    "    idx = np.random.choice(et.shape[0], chunk, replace=False)\n",
    "    idx.sort()\n",
    "    dis_boot = dis[idx][:,idx]\n",
    "    cd = distance.squareform(dis_boot)\n",
    "    Z = cluster.hierarchy.linkage(cd, method='ward')\n",
    "    for c in range(2, 6):\n",
    "        cm = consensus_mats[c - 2]\n",
    "        clusters = cluster.hierarchy.fcluster(Z, c, criterion='maxclust') # 'maxclust' cuts dendrogram so that it creates c optimal clusters\n",
    "        \n",
    "        # in order to use the clever method below, preserve unselected indices as 0 (cluster labels start at 1)\n",
    "        ct = np.zeros((et.shape[0]),)\n",
    "        ct[idx] = clusters\n",
    "        \n",
    "        ####### extremely clever way of creating consensus matrix -- taken from Aki's PyBASC #######\n",
    "        ct = ct[:,np.newaxis]\n",
    "        cm += (np.dot(ct**-1., ct.T) == 1).astype(np.float64)\n",
    "        ############################################################################################\n",
    "        \n",
    "for mat in consensus_mats:\n",
    "    mat /= niter"
   ]
  },
  {
   "cell_type": "code",
   "execution_count": null,
   "metadata": {},
   "outputs": [],
   "source": [
    "fig, axes = plt.subplots(2, 2, figsize=(10,10))\n",
    "ax = axes.flat\n",
    "for i in range(len(ax)):\n",
    "    im = ax[i].imshow(consensus_mats[i], cmap='Reds')\n",
    "    ax[i].set_title('Dendrogram cut at %d clusters' % (i + 2))"
   ]
  },
  {
   "cell_type": "code",
   "execution_count": null,
   "metadata": {},
   "outputs": [],
   "source": [
    "fig, axes = plt.subplots(2, 2, figsize=(10,10))\n",
    "ax = axes.flat\n",
    "for i in range(len(consensus_mats)):\n",
    "    mat = np.copy(consensus_mats[i])\n",
    "    mat = 1 - mat\n",
    "    np.fill_diagonal(mat, 0)\n",
    "    cd = distance.squareform(mat)\n",
    "    Z = cluster.hierarchy.linkage(cd, method='ward')\n",
    "    dn = cluster.hierarchy.dendrogram(Z, ax=ax[i])\n",
    "    ax[i].set_xticks([])\n",
    "    ax[i].set_title('%d-cluster consensus matrix' % (i + 2))"
   ]
  },
  {
   "cell_type": "code",
   "execution_count": null,
   "metadata": {},
   "outputs": [],
   "source": [
    "silhouettes = np.zeros((4,3))\n",
    "for i in range(len(consensus_mats)):\n",
    "    mat = np.copy(consensus_mats[i])\n",
    "    mat = 1 - mat\n",
    "    np.fill_diagonal(mat, 0)\n",
    "    cd = distance.squareform(mat)\n",
    "    Z = cluster.hierarchy.linkage(cd, method='ward')\n",
    "    for c in range(2, 5):\n",
    "        clusters = cluster.hierarchy.fcluster(Z, c, criterion='maxclust')\n",
    "        sil = metrics.silhouette_score(dis, clusters, metric='precomputed')\n",
    "        silhouettes[i,c - 2] = sil"
   ]
  },
  {
   "cell_type": "code",
   "execution_count": null,
   "metadata": {},
   "outputs": [],
   "source": [
    "silhouettes"
   ]
  },
  {
   "cell_type": "code",
   "execution_count": null,
   "metadata": {},
   "outputs": [],
   "source": [
    "i, c = np.unravel_index(np.argmax(silhouettes, axis=None), silhouettes.shape) # return cell that has highest silhouette score\n",
    "mat = np.copy(consensus_mats[i])\n",
    "mat = 1 - mat # make into distance matrix\n",
    "np.fill_diagonal(mat, 0)\n",
    "cd = distance.squareform(mat)\n",
    "Z = cluster.hierarchy.linkage(cd, method='ward')\n",
    "clusters = cluster.hierarchy.fcluster(Z, c + 2, criterion='maxclust')"
   ]
  },
  {
   "cell_type": "code",
   "execution_count": null,
   "metadata": {},
   "outputs": [],
   "source": [
    "np.unique(clusters, return_counts=True)"
   ]
  },
  {
   "cell_type": "code",
   "execution_count": null,
   "metadata": {},
   "outputs": [],
   "source": [
    "pheno_c = []\n",
    "for i in np.unique(clusters):\n",
    "    pheno_c.append(pheno_et.iloc[clusters == i,:-1])"
   ]
  },
  {
   "cell_type": "code",
   "execution_count": null,
   "metadata": {},
   "outputs": [],
   "source": [
    "pvals = np.zeros((np.unique(clusters).size, np.unique(clusters).size, 4))\n",
    "for i in range(np.unique(clusters).size - 1):\n",
    "    for j in range(i + 1, np.unique(clusters).size):\n",
    "        for k in range(4):\n",
    "            p = ttest_ind(pheno_c[i].iloc[:,k], pheno_c[j].iloc[:,k], equal_var=False)[1]\n",
    "            pvals[i,j,k] = p\n",
    "            pvals[j,i,k] = p"
   ]
  },
  {
   "cell_type": "code",
   "execution_count": null,
   "metadata": {},
   "outputs": [],
   "source": [
    "p_corr = np.zeros(pvals.shape)\n",
    "nmu = np.triu_indices(pvals.shape[0], 1)\n",
    "for i in range(pvals.shape[2]):\n",
    "    nm = np.triu_indices(np.unique(clusters).size, 1)\n",
    "    p_unc = pvals[...,i][nm[0],nm[1]]\n",
    "    res = multipletests(p_unc, method='fdr_bh')\n",
    "    p_corr[nmu[0],nmu[1],i] = res[1]\n",
    "    p_corr[...,i] += p_corr[...,i].T"
   ]
  },
  {
   "cell_type": "code",
   "execution_count": null,
   "metadata": {},
   "outputs": [],
   "source": [
    "fig, ax = plt.subplots(2, 2, figsize=(11,11))\n",
    "ax_flat = ax.flat\n",
    "scores = pheno_et.columns.tolist()[:-1]\n",
    "for i in range(p_corr.shape[2]):\n",
    "    im = ax_flat[i].imshow(p_corr[...,i], cmap='jet', vmax=0.05)\n",
    "    ax_flat[i].set_title(scores[i], fontsize=18)\n",
    "    ax_flat[i].set_xticks(np.arange(p_corr.shape[0]))\n",
    "    ax_flat[i].set_yticks(np.arange(p_corr.shape[0]))\n",
    "    ax_flat[i].set_xticklabels(np.arange(p_corr.shape[0]) + 1)\n",
    "    ax_flat[i].set_yticklabels(np.arange(p_corr.shape[0]) + 1)\n",
    "cbar = fig.colorbar(im, ax=ax.ravel().tolist(), shrink=0.95)"
   ]
  },
  {
   "cell_type": "markdown",
   "metadata": {},
   "source": [
    "# Concordance correlation coefficient"
   ]
  },
  {
   "cell_type": "code",
   "execution_count": null,
   "metadata": {},
   "outputs": [],
   "source": [
    "et[...,0] += 400\n",
    "et[...,1] += 300"
   ]
  },
  {
   "cell_type": "code",
   "execution_count": null,
   "metadata": {},
   "outputs": [],
   "source": [
    "def CCD(x1, y1, x2, y2):\n",
    "    \"\"\"\n",
    "    Calculate modified concordance correlation distance for 2D data\n",
    "    \"\"\"\n",
    "    \n",
    "    data = np.stack((x1, x2, y1, y2), axis=0)\n",
    "    means = np.mean(data, axis=1)\n",
    "    vars_x = np.cov(x1, x2)\n",
    "    vars_y = np.cov(y1, y2)\n",
    "    \n",
    "    ccc = 2 * (vars_x[0,1] + vars_y[0,1]) / (vars_x[0,0] + vars_x[1,1] + (means[0] - means[1])**2 + vars_y[0,0] + vars_y[1,1] + (means[2] - means[3])**2)\n",
    "    return 1 - ccc"
   ]
  },
  {
   "cell_type": "code",
   "execution_count": null,
   "metadata": {},
   "outputs": [],
   "source": [
    "dis = np.zeros((et.shape[0], et.shape[0]))\n",
    "\n",
    "min_ccd = np.inf\n",
    "for i in range(et.shape[0] - 1):\n",
    "    for j in range(i + 1, et.shape[0]):\n",
    "        ccd = CCD(et[i,:,0], et[i,:,1], et[j,:,0], et[j,:,1])\n",
    "        if ccd < min_ccd:\n",
    "            min_ccd = ccd\n",
    "        dis[i,j] = ccd\n",
    "        dis[j,i] = ccd"
   ]
  },
  {
   "cell_type": "code",
   "execution_count": null,
   "metadata": {},
   "outputs": [],
   "source": [
    "plt.figure(figsize=(10,10))\n",
    "im = plt.imshow(dis, cmap='jet', vmin=min_ccd)\n",
    "plt.colorbar(im)"
   ]
  },
  {
   "cell_type": "code",
   "execution_count": null,
   "metadata": {},
   "outputs": [],
   "source": [
    "# bootstrapping\n",
    "niter = 1000\n",
    "chunk = int(et.shape[0] * 0.9)\n",
    "\n",
    "# create consensus matrix for 4 different cluster amounts in dendrogram\n",
    "consensus_mats = [\n",
    "    np.zeros((et.shape[0], et.shape[0])),\n",
    "    np.zeros((et.shape[0], et.shape[0])),\n",
    "    np.zeros((et.shape[0], et.shape[0])),\n",
    "    np.zeros((et.shape[0], et.shape[0]))\n",
    "]\n",
    "\n",
    "for i in range(niter):\n",
    "    idx = np.random.choice(et.shape[0], chunk, replace=False)\n",
    "    idx.sort()\n",
    "    dis_boot = dis[idx][:,idx]\n",
    "    cd = distance.squareform(dis_boot)\n",
    "    Z = cluster.hierarchy.linkage(cd, method='ward')\n",
    "    for c in range(2, 6):\n",
    "        cm = consensus_mats[c - 2]\n",
    "        clusters = cluster.hierarchy.fcluster(Z, c, criterion='maxclust') # 'maxclust' cuts dendrogram so that it creates c optimal clusters\n",
    "        \n",
    "        # in order to use the clever method below, preserve unselected indices as 0 (cluster labels start at 1)\n",
    "        ct = np.zeros((et.shape[0]),)\n",
    "        ct[idx] = clusters\n",
    "        \n",
    "        ####### extremely clever way of creating consensus matrix -- taken from Aki's PyBASC #######\n",
    "        ct = ct[:,np.newaxis]\n",
    "        cm += (np.dot(ct**-1., ct.T) == 1).astype(np.float64)\n",
    "        ############################################################################################\n",
    "        \n",
    "for mat in consensus_mats:\n",
    "    mat /= niter"
   ]
  },
  {
   "cell_type": "code",
   "execution_count": null,
   "metadata": {},
   "outputs": [],
   "source": [
    "fig, axes = plt.subplots(2, 2, figsize=(10,10))\n",
    "ax = axes.flat\n",
    "for i in range(len(ax)):\n",
    "    im = ax[i].imshow(consensus_mats[i], cmap='Reds')\n",
    "    ax[i].set_title('Dendrogram cut at %d clusters' % (i + 2))"
   ]
  },
  {
   "cell_type": "code",
   "execution_count": null,
   "metadata": {},
   "outputs": [],
   "source": [
    "fig, axes = plt.subplots(2, 2, figsize=(10,10))\n",
    "ax = axes.flat\n",
    "for i in range(len(consensus_mats)):\n",
    "    mat = np.copy(consensus_mats[i])\n",
    "    mat = 1 - mat\n",
    "    np.fill_diagonal(mat, 0)\n",
    "    cd = distance.squareform(mat)\n",
    "    Z = cluster.hierarchy.linkage(cd, method='ward')\n",
    "    dn = cluster.hierarchy.dendrogram(Z, ax=ax[i])\n",
    "    ax[i].set_xticks([])\n",
    "    ax[i].set_title('%d-cluster consensus matrix' % (i + 2))"
   ]
  },
  {
   "cell_type": "code",
   "execution_count": null,
   "metadata": {},
   "outputs": [],
   "source": [
    "silhouettes = np.zeros((4,3))\n",
    "for i in range(len(consensus_mats)):\n",
    "    mat = np.copy(consensus_mats[i])\n",
    "    mat = 1 - mat\n",
    "    np.fill_diagonal(mat, 0)\n",
    "    cd = distance.squareform(mat)\n",
    "    Z = cluster.hierarchy.linkage(cd, method='ward')\n",
    "    for c in range(2, 5):\n",
    "        clusters = cluster.hierarchy.fcluster(Z, c, criterion='maxclust')\n",
    "        sil = metrics.silhouette_score(dis, clusters, metric='precomputed')\n",
    "        silhouettes[i,c - 2] = sil"
   ]
  },
  {
   "cell_type": "code",
   "execution_count": null,
   "metadata": {},
   "outputs": [],
   "source": [
    "silhouettes"
   ]
  },
  {
   "cell_type": "code",
   "execution_count": null,
   "metadata": {},
   "outputs": [],
   "source": [
    "i, c = np.unravel_index(np.argmax(silhouettes, axis=None), silhouettes.shape) # return cell that has highest silhouette score\n",
    "mat = np.copy(consensus_mats[i])\n",
    "mat = 1 - mat # make into distance matrix\n",
    "np.fill_diagonal(mat, 0)\n",
    "cd = distance.squareform(mat)\n",
    "Z = cluster.hierarchy.linkage(cd, method='ward')\n",
    "clusters = cluster.hierarchy.fcluster(Z, c + 2, criterion='maxclust')"
   ]
  },
  {
   "cell_type": "code",
   "execution_count": null,
   "metadata": {},
   "outputs": [],
   "source": [
    "np.unique(clusters, return_counts=True)"
   ]
  },
  {
   "cell_type": "code",
   "execution_count": null,
   "metadata": {},
   "outputs": [],
   "source": [
    "pheno_c = []\n",
    "for i in np.unique(clusters):\n",
    "    pheno_c.append(pheno_et.iloc[clusters == i,:-1])"
   ]
  },
  {
   "cell_type": "code",
   "execution_count": null,
   "metadata": {},
   "outputs": [],
   "source": [
    "pvals = np.zeros((np.unique(clusters).size, np.unique(clusters).size, 4))\n",
    "for i in range(np.unique(clusters).size - 1):\n",
    "    for j in range(i + 1, np.unique(clusters).size):\n",
    "        for k in range(4):\n",
    "            p = ttest_ind(pheno_c[i].iloc[:,k], pheno_c[j].iloc[:,k], equal_var=False)[1]\n",
    "            pvals[i,j,k] = p\n",
    "            pvals[j,i,k] = p"
   ]
  },
  {
   "cell_type": "code",
   "execution_count": null,
   "metadata": {},
   "outputs": [],
   "source": [
    "p_corr = np.zeros(pvals.shape)\n",
    "nmu = np.triu_indices(pvals.shape[0], 1)\n",
    "for i in range(pvals.shape[2]):\n",
    "    nm = np.triu_indices(np.unique(clusters).size, 1)\n",
    "    p_unc = pvals[...,i][nm[0],nm[1]]\n",
    "    res = multipletests(p_unc, method='fdr_bh')\n",
    "    p_corr[nmu[0],nmu[1],i] = res[1]\n",
    "    p_corr[...,i] += p_corr[...,i].T"
   ]
  },
  {
   "cell_type": "code",
   "execution_count": null,
   "metadata": {},
   "outputs": [],
   "source": [
    "fig, ax = plt.subplots(2, 2, figsize=(11,11))\n",
    "ax_flat = ax.flat\n",
    "scores = pheno_et.columns.tolist()[:-1]\n",
    "for i in range(p_corr.shape[2]):\n",
    "    im = ax_flat[i].imshow(p_corr[...,i], cmap='jet', vmax=0.05)\n",
    "    ax_flat[i].set_title(scores[i], fontsize=18)\n",
    "    ax_flat[i].set_xticks(np.arange(p_corr.shape[0]))\n",
    "    ax_flat[i].set_yticks(np.arange(p_corr.shape[0]))\n",
    "    ax_flat[i].set_xticklabels(np.arange(p_corr.shape[0]) + 1)\n",
    "    ax_flat[i].set_yticklabels(np.arange(p_corr.shape[0]) + 1)\n",
    "cbar = fig.colorbar(im, ax=ax.ravel().tolist(), shrink=0.95)"
   ]
  },
  {
   "cell_type": "code",
   "execution_count": null,
   "metadata": {},
   "outputs": [],
   "source": []
  }
 ],
 "metadata": {
  "kernelspec": {
   "display_name": "Python 3",
   "language": "python",
   "name": "python3"
  },
  "language_info": {
   "codemirror_mode": {
    "name": "ipython",
    "version": 3
   },
   "file_extension": ".py",
   "mimetype": "text/x-python",
   "name": "python",
   "nbconvert_exporter": "python",
   "pygments_lexer": "ipython3",
   "version": "3.6.8"
  }
 },
 "nbformat": 4,
 "nbformat_minor": 2
}
